{
 "cells": [
  {
   "cell_type": "markdown",
   "metadata": {},
   "source": [
    "# CRASH PREDICTION: Predicción de accidentes viales #\n",
    "\n",
    "En el presente notebook se detallará la construcción de un modelo de Machine Learning encargado de realizar \n",
    "predicciones de tipos de accidente viales (No fatal y Fatal). Para ello se implementarán y evaluará la eficacia de los siguientes algoritmos:\n",
    "\n",
    " - Logistic Regresion\n",
    " - Support Vector Machines (Classifier)\n",
    " - Multilayer Perceptron (Classifier)\n",
    " - Random Forest (Classifier)\n",
    " \n"
   ]
  },
  {
   "cell_type": "markdown",
   "metadata": {},
   "source": [
    "## 1 - Librerías ##\n",
    "\n",
    "Primero, importamos las librerías necesarias para construir y vizualizar nuestro modelo.\n",
    "\n",
    "- [numpy](www.numpy.org) es el paquete fundamental para la computación científica con Python.\n",
    "- [matplotlib](http://matplotlib.org) es una librería famosa para trazar gráficos en Python.\n",
    "- [pandas](https://pandas.pydata.org) es una librería para manipulación y análisis de datos en Python.\n",
    "- [seaborn](https://seaborn.pydata.org/) es una librería de visualización de datos de Python basada en matplotlib.\n",
    "- [sklearn](https://scikit-learn.org/stable/) es una librería de Machine Learning libre para el lenguaje de programación Python"
   ]
  },
  {
   "cell_type": "code",
   "execution_count": 1,
   "metadata": {},
   "outputs": [],
   "source": [
    "import pandas as pd\n",
    "import matplotlib.pyplot as plt\n",
    "import numpy as np\n",
    "import seaborn as sns\n",
    "from sklearn.model_selection import train_test_split\n",
    "from sklearn.ensemble import RandomForestClassifier\n",
    "from sklearn.metrics import  confusion_matrix, classification_report\n",
    "from sklearn.model_selection import GridSearchCV\n",
    "from sklearn.metrics import accuracy_score, f1_score, precision_score, recall_score\n",
    "from sklearn.utils import shuffle\n",
    "from sklearn.linear_model import LogisticRegression\n",
    "from sklearn.svm import SVC\n",
    "from sklearn.neural_network import MLPClassifier"
   ]
  },
  {
   "cell_type": "markdown",
   "metadata": {},
   "source": [
    "## 2 - Importar los datos ##\n",
    "\n",
    "Para el entrenamiento y prueba de nuestros modelos, se utilizarán los siguientes datasets los cuales ya fueron previamente limpiados y procesados.\n",
    "\n",
    " - **'subset_atus_anual_2011-17_train.csv'.** Dataset de entrenamiento. Contiene datos de accidentes viales desde 2011 hasta 2017 (repositorio balanceados con misma cantidad de registros para cada clase a predecir). Total de registros: **13,529**, total de columnas: **70**.\n",
    " \n",
    " \n",
    " - **'subset_atus_anual_2011-17_test.csv'.** Dataset de prueba. Contiene datos de accidentes viales desde 2011 hasta 2017. Total de registros: **829,040**, total de columnas: **70**."
   ]
  },
  {
   "cell_type": "code",
   "execution_count": 2,
   "metadata": {},
   "outputs": [],
   "source": [
    "mainpath = 'C:/Users/ISAACGONZALEZGUTIERR/Documents/Personal/Proyecto Modular/datasets/'\n",
    "df_train = pd.read_csv(mainpath + 'subset_atus_anual_2011-17_binario_balanceado_2class_AllFeatures_Mes.csv')\n",
    "df_test = pd.read_csv(mainpath + 'subset_atus_anual_2011-17_binario_2class_validacion_Mes.csv')"
   ]
  },
  {
   "cell_type": "markdown",
   "metadata": {},
   "source": [
    "## 3 - Definir las variables  ##\n",
    "\n",
    "Se define la variable objetivo \"*CLASACC*\", así como se eliminan las variables que no aportan información relevante al modelo. Posteriormente se asignan los resgistros a sus respectiva variables que utilizará el modelo."
   ]
  },
  {
   "cell_type": "code",
   "execution_count": 3,
   "metadata": {},
   "outputs": [],
   "source": [
    "#Variable a predecir\n",
    "target = 'CLASACC'\n",
    "\n",
    "#Columnas a eliminar\n",
    "names = ['CLASACC', 'TRANVIA', 'FERROCARRI',\n",
    "         'TIPACCID_Colision con vehiculo automotor2',\n",
    "         'URBANA_Sin accidente en esta zona',\n",
    "         'SUBURBANA_Sin accidente en esta zona',\n",
    "         'MICROBUS',\n",
    "         'OMNIBUS',\n",
    "         'TIPACCID_Caida de pasajero',\n",
    "         'TIPACCID_Colision con animal',\n",
    "         'TIPACCID_Incendio',\n",
    "         'CAUSAACCI_Falla del vehiculo',\n",
    "         'CAUSAACCI_Otra',\n",
    "         'CAPAROD_No Pavimentada',\n",
    "         'SEXO_Mujer',\n",
    "         'ALIENTO_No',\n",
    "         'CINTURON_No',\n",
    "         'TIPACCID_Colision con ferrocarril']\n",
    "\n",
    "#Asignamos la variables predictoras y el target a arreglos de numpy para los datos de entrenamiento\n",
    "X = np.array(df_train.drop(columns = names))\n",
    "y = np.array(df_train[target], dtype = np.int8)\n",
    "\n",
    "#Mezclamos los registros de entrenamiento con Shuffle\n",
    "X_train, y_train = shuffle(X, y, random_state = 0)\n",
    "\n",
    "#Asignamos la variables predictoras y el target a arreglos de numpy para los datos de entrenamiento\n",
    "X_val = np.array(df_test.drop(columns = names))\n",
    "y_val = np.array(df_test[target], dtype = np.int8)\n",
    "\n",
    "#Mezclamos los registros de prueba con Shuffle\n",
    "X_test, y_test = shuffle(X_val, y_val, random_state = 0)\n"
   ]
  },
  {
   "cell_type": "markdown",
   "metadata": {},
   "source": [
    "## 4 - Construcción y entrenamiento del modelo ##\n",
    "\n",
    "Para la creación de los algoritmos de Machine Learning, se utilizaron las clases brindadas por la librería Sklearn. Los modelos se ajustaron con sus respectivos hiperparámetros obtenidos mediante la clase GridSearchCV, incluida en la librería de sklearn."
   ]
  },
  {
   "cell_type": "markdown",
   "metadata": {},
   "source": [
    "### 4.1 - Random Forest ###\n",
    "\n",
    "Un bosque aleatorio es un estimador que se ajusta a varios clasificadores de árbol de decisión en varias submuestras del conjunto de datos y utiliza el promedio para mejorar la precisión predictiva y controlar el sobreajuste. El tamaño de la submuestra siempre es el mismo que el tamaño de la muestra de entrada original, pudiendo extraerse la muestra con reemplazo o sin reemplazo.\n",
    "\n",
    "Parámetros a ajustar:\n",
    "\n",
    " - **n_estimators:** número de arboles generados por el bosque aleatorio.\n",
    " - **criterion:** la función para medir la calidad de la división.\n",
    " - **max_depth:** profundidad máxima de los árboles.\n",
    " - **min_samples_split:** el número mínimo de muestras requeridas para para dividir un nodo interno.\n",
    " - **min_samples_leaf:** el número mínimo de muestras requeridas para ser consideradas una hoja.\n",
    " - **max_features:** número máximo de caraterísticas a utilizar en un árbol."
   ]
  },
  {
   "cell_type": "code",
   "execution_count": 4,
   "metadata": {},
   "outputs": [
    {
     "data": {
      "text/plain": [
       "RandomForestClassifier(bootstrap=True, class_weight=None, criterion='entropy',\n",
       "                       max_depth=20, max_features=12, max_leaf_nodes=None,\n",
       "                       min_impurity_decrease=0.0, min_impurity_split=None,\n",
       "                       min_samples_leaf=1, min_samples_split=2,\n",
       "                       min_weight_fraction_leaf=0.0, n_estimators=500, n_jobs=2,\n",
       "                       oob_score=False, random_state=0, verbose=0,\n",
       "                       warm_start=False)"
      ]
     },
     "execution_count": 4,
     "metadata": {},
     "output_type": "execute_result"
    }
   ],
   "source": [
    "model_RF = RandomForestClassifier(n_estimators=500,\n",
    "                               n_jobs = 2,\n",
    "                               criterion = 'entropy',\n",
    "                               max_depth = 20,\n",
    "                               min_samples_split = 2,\n",
    "                               min_samples_leaf = 1,\n",
    "                               max_features = 12,\n",
    "                               random_state=0)\n",
    "\n",
    "model_RF.fit(X_train,y_train)\n"
   ]
  },
  {
   "cell_type": "markdown",
   "metadata": {},
   "source": [
    "### 4.1 - Support Vector Classifier (SVC) ###\n",
    "\n",
    "Intuitivamente, una SVM es un modelo que representa a los puntos de muestra en el espacio, separando las clases a 2 espacios lo más amplios posibles mediante un hiperplano de separación definido como el vector entre los 2 puntos, de las 2 clases, más cercanos al que se llama vector soporte.\n",
    "\n",
    "Parámetros a ajustar:\n",
    "\n",
    " - **kernel:** función kernel utilizada en el algoritmo.\n",
    " - **C:** parámetro de penalización para el término del error.\n",
    " - **gamma:** coeficiente de los kernel 'rbf', 'poly' y 'sigmoid'."
   ]
  },
  {
   "cell_type": "code",
   "execution_count": 5,
   "metadata": {},
   "outputs": [
    {
     "data": {
      "text/plain": [
       "SVC(C=12, cache_size=200, class_weight=None, coef0=0.0,\n",
       "    decision_function_shape='ovr', degree=3, gamma=0.01, kernel='rbf',\n",
       "    max_iter=-1, probability=False, random_state=None, shrinking=True,\n",
       "    tol=0.001, verbose=False)"
      ]
     },
     "execution_count": 5,
     "metadata": {},
     "output_type": "execute_result"
    }
   ],
   "source": [
    "model_SVC = SVC(kernel='rbf',\n",
    "                  C=12,\n",
    "                gamma=0.01)\n",
    "\n",
    "model_SVC.fit(X_train, y_train)"
   ]
  },
  {
   "cell_type": "markdown",
   "metadata": {},
   "source": [
    "### 4.3 - Multilayer Perceptron ###\n",
    "\n",
    "El perceptrón multicapa es una red neuronal artificial formada por múltiples capas, de tal manera que tiene capacidad para resolver problemas que no son linealmente separables, lo cual es la principal limitación del perceptrón.\n",
    "\n",
    "Parámetros a ajustar:\n",
    "\n",
    " - **activation:** función de activación para las capas ocultas.\n",
    " - **max_iter:** número máximo de iteraciones durante la optimización de los pesos.\n",
    " - **batch_size:** tamaño de mini lotes para optimizadores estocásticos.\n",
    " - **alpha:** parámetro de penalización L2 (término de regularización).\n",
    " - **learning_rate:** tasa de aprendizaje programada para la actualización de los pesos.\n",
    " - **learning_rate_init:** tasa de aprendizaje inicial.\n",
    " - **solver:** solver para la optimización de los pesos.\n"
   ]
  },
  {
   "cell_type": "code",
   "execution_count": 6,
   "metadata": {},
   "outputs": [
    {
     "data": {
      "text/plain": [
       "MLPClassifier(activation='logistic', alpha=0.0005, batch_size=100, beta_1=0.9,\n",
       "              beta_2=0.999, early_stopping=False, epsilon=1e-08,\n",
       "              hidden_layer_sizes=(100,), learning_rate='constant',\n",
       "              learning_rate_init=0.001, max_iter=1000, momentum=0.9,\n",
       "              n_iter_no_change=10, nesterovs_momentum=True, power_t=0.5,\n",
       "              random_state=0, shuffle=True, solver='adam', tol=0.0001,\n",
       "              validation_fraction=0.1, verbose=False, warm_start=False)"
      ]
     },
     "execution_count": 6,
     "metadata": {},
     "output_type": "execute_result"
    }
   ],
   "source": [
    "model_MLP = MLPClassifier(activation = 'logistic',\n",
    "                      max_iter = 1000,\n",
    "                      batch_size = 100,\n",
    "                      alpha = 0.0005,\n",
    "                      learning_rate = 'constant',\n",
    "                      learning_rate_init = 0.001,\n",
    "                      solver = 'adam',\n",
    "                      random_state = 0)\n",
    "\n",
    "\n",
    "model_MLP.fit(X_train, y_train)"
   ]
  },
  {
   "cell_type": "markdown",
   "metadata": {},
   "source": [
    "### 4.4 - Logistic Regression ###\n",
    "\n",
    "Análisis de regresión utilizado para predecir el resultado de una variable categórica en función de las variables.  independientes o predictoras. utiliza como función de enlace la función logística ($\\frac{1}{1 + e^{-z}}$).\n",
    "\n",
    " - **C:** Inverso de la fuerza de regularización (función de coste).\n",
    " - **max_iter:** Número máximo de iteraciones tomadas para que el optimizador converja.\n",
    " - **solver:** solver para la optimización de los pesos."
   ]
  },
  {
   "cell_type": "code",
   "execution_count": 7,
   "metadata": {},
   "outputs": [
    {
     "data": {
      "text/plain": [
       "LogisticRegression(C=0.02, class_weight=None, dual=False, fit_intercept=True,\n",
       "                   intercept_scaling=1, l1_ratio=None, max_iter=1000,\n",
       "                   multi_class='warn', n_jobs=None, penalty='l2',\n",
       "                   random_state=0, solver='lbfgs', tol=0.0001, verbose=0,\n",
       "                   warm_start=False)"
      ]
     },
     "execution_count": 7,
     "metadata": {},
     "output_type": "execute_result"
    }
   ],
   "source": [
    "model_LogReg = LogisticRegression(solver='lbfgs',\n",
    "                               max_iter = 1000,\n",
    "                               C = 0.02,\n",
    "                               random_state = 0)\n",
    "\n",
    "model_LogReg.fit(X_train, y_train)"
   ]
  },
  {
   "cell_type": "markdown",
   "metadata": {},
   "source": [
    "## 5 - Métricas de evaluación ##"
   ]
  },
  {
   "cell_type": "markdown",
   "metadata": {},
   "source": [
    "### 5.1 - Accuracy classification score.###\n",
    "\n",
    "Exactitud media de las predicciones con respecto al valor verdadero: $\\frac{vp + vn}{vp + fp + vn + fn}$, donde $vp$ es el número de verdaderos positivos y $fp$ el número de falsos positivos."
   ]
  },
  {
   "cell_type": "code",
   "execution_count": null,
   "metadata": {},
   "outputs": [],
   "source": [
    "# Asignamos el score obtenido durante el entrenamiento\n",
    "score_Test_RF = model_RF.score(X_test, y_test)\n",
    "score_Test_SVC = model_SVC.score(X_test, y_test)\n",
    "score_Test_MLP = model_MLP.score(X_test, y_test)\n",
    "score_Test_LogReg = model_LogReg.score(X_test, y_test)\n",
    "\n",
    "# Declaramos el vector con nuestras predicciones para los datos de entrenamiento\n",
    "ytest_pred_RF = model_RF.predict(X_test)\n",
    "ytest_pred_SVC = model_SVC.predict(X_test)\n",
    "ytest_pred_MLP = model_MLP.predict(X_test)\n",
    "ytest_pred_LogReg = model_LogReg.predict(X_test)\n",
    "\n",
    "print('Score test Random Forest: {0: .5f}'.format(score_Test_RF))\n",
    "print('Score test Random Forest: {0: .5f}'.format(score_Test_SVC))\n",
    "print('Score test Random Forest: {0: .5f}'.format(score_Test_MLP))\n",
    "print('Score test Random Forest: {0: .5f}'.format(score_Test_LogReg))"
   ]
  },
  {
   "cell_type": "code",
   "execution_count": 8,
   "metadata": {},
   "outputs": [
    {
     "name": "stdout",
     "output_type": "stream",
     "text": [
      "Score test Random Forest:  0.83048\n"
     ]
    }
   ],
   "source": [
    "# Asignamos el score obtenido durante el entrenamiento\n",
    "score_Test_RF = model_RF.score(X_test, y_test)\n",
    "\n",
    "# Declaramos el vector con nuestras predicciones para los datos de entrenamiento\n",
    "ytest_pred_RF = model_RF.predict(X_test)\n",
    "\n",
    "print('Score test Random Forest: {0: .5f}'.format(score_Test_RF))"
   ]
  },
  {
   "cell_type": "code",
   "execution_count": 32,
   "metadata": {},
   "outputs": [
    {
     "name": "stdout",
     "output_type": "stream",
     "text": [
      "Score test SVC:  0.77705\n"
     ]
    }
   ],
   "source": [
    "# Asignamos el score obtenido durante el entrenamiento\n",
    "score_Test_SVC = model_SVC.score(X_test[:100000,:], y_test[0:100000])\n",
    "\n",
    "# Declaramos el vector con nuestras predicciones para los datos de entrenamiento\n",
    "ytest_pred_SVC = model_SVC.predict(X_test[:100000,:])\n",
    "\n",
    "print('Score test SVC: {0: .5f}'.format(score_Test_SVC))"
   ]
  },
  {
   "cell_type": "code",
   "execution_count": 33,
   "metadata": {},
   "outputs": [
    {
     "name": "stdout",
     "output_type": "stream",
     "text": [
      "Score test MLP:  0.79948\n"
     ]
    }
   ],
   "source": [
    "# Asignamos el score obtenido durante el entrenamiento\n",
    "score_Test_MLP = model_MLP.score(X_test[:100000,:], y_test[0:100000])\n",
    "\n",
    "# Declaramos el vector con nuestras predicciones para los datos de entrenamiento\n",
    "ytest_pred_MLP = model_MLP.predict(X_test[:100000,:])\n",
    "\n",
    "print('Score test MLP: {0: .5f}'.format(score_Test_MLP))"
   ]
  },
  {
   "cell_type": "code",
   "execution_count": 34,
   "metadata": {},
   "outputs": [
    {
     "name": "stdout",
     "output_type": "stream",
     "text": [
      "Score test Logistic Regression:  0.78472\n"
     ]
    }
   ],
   "source": [
    "# Asignamos el score obtenido durante el entrenamiento\n",
    "score_Test_LogReg = model_LogReg.score(X_test, y_test)\n",
    "\n",
    "# Declaramos el vector con nuestras predicciones para los datos de entrenamiento\n",
    "ytest_pred_LogReg = model_LogReg.predict(X_test)\n",
    "\n",
    "print('Score test Logistic Regression: {0: .5f}'.format(score_Test_LogReg))"
   ]
  },
  {
   "cell_type": "markdown",
   "metadata": {},
   "source": [
    "### 5.2 - Reporte de clasificación ###\n",
    "\n",
    "Reporte compuesto por las principales métricas de clasificación.\n",
    "\n",
    " - **Precisión:** es la relación de $\\frac{vp}{vp + fp}$, donde $vp$ es el número de verdaderos positivos y $fp$ el número de falsos positivos. La precisión es intuitivamente la capacidad del clasificador de no etiquetar como positiva una muestra que es negativa. El mejor valor es 1 y el peor es 0.\n",
    " \n",
    "\n",
    " - **Sensibilidad:** es la relación $\\frac{vp}{vp + fn}$, donde $vp$ es el número de verdaderos positivos y $fn$ el número de falsos negativos. La sensibilidad es intuitivamente la capacidad del clasificador para encontrar todas las muestras positivas. El mejor valor es 1 y el peor es 0.\n",
    " \n",
    " \n",
    " - **F1_score:** El puntaje F1 se puede interpretar como un promedio ponderado de la precisión y la sensibilidad, donde un puntaje F1 alcanza su mejor valor en 1 y el peor puntaje en 0. La contribución relativa de precisión y recuerdo al puntaje F1 es igual. La fórmula para el puntaje F1 es:\n",
    " \n",
    "$$F1 = \\frac{2 * (precisión * sensibilidad)}{(precisión + sensibilidad)}$$\n",
    " \n",
    " \n"
   ]
  },
  {
   "cell_type": "code",
   "execution_count": 17,
   "metadata": {},
   "outputs": [
    {
     "name": "stdout",
     "output_type": "stream",
     "text": [
      "Clasification report Random Forest:\n",
      "\n",
      "              precision    recall  f1-score   support\n",
      "\n",
      "           0       1.00      0.83      0.91    822276\n",
      "           1       0.04      0.91      0.08      6765\n",
      "\n",
      "    accuracy                           0.83    829041\n",
      "   macro avg       0.52      0.87      0.49    829041\n",
      "weighted avg       0.99      0.83      0.90    829041\n",
      "\n"
     ]
    }
   ],
   "source": [
    "print('Clasification report Random Forest:\\n')\n",
    "print(classification_report(y_test, ytest_pred_RF))\n"
   ]
  },
  {
   "cell_type": "code",
   "execution_count": 20,
   "metadata": {},
   "outputs": [
    {
     "name": "stdout",
     "output_type": "stream",
     "text": [
      "Clasification report SVC:\n",
      "\n",
      "              precision    recall  f1-score   support\n",
      "\n",
      "           0       1.00      0.78      0.87     99163\n",
      "           1       0.03      0.85      0.06       837\n",
      "\n",
      "    accuracy                           0.78    100000\n",
      "   macro avg       0.51      0.81      0.47    100000\n",
      "weighted avg       0.99      0.78      0.87    100000\n",
      "\n"
     ]
    }
   ],
   "source": [
    "print('Clasification report SVC:\\n')\n",
    "print(classification_report(y_test[:100000], ytest_pred_SVC))"
   ]
  },
  {
   "cell_type": "code",
   "execution_count": 22,
   "metadata": {},
   "outputs": [
    {
     "name": "stdout",
     "output_type": "stream",
     "text": [
      "Clasification report MLP:\n",
      "              precision    recall  f1-score   support\n",
      "\n",
      "           0       1.00      0.80      0.89     99163\n",
      "           1       0.03      0.85      0.07       837\n",
      "\n",
      "    accuracy                           0.80    100000\n",
      "   macro avg       0.52      0.83      0.48    100000\n",
      "weighted avg       0.99      0.80      0.88    100000\n",
      "\n"
     ]
    }
   ],
   "source": [
    "print('Clasification report MLP:')\n",
    "print(classification_report(y_test[:100000], ytest_pred_MLP))"
   ]
  },
  {
   "cell_type": "code",
   "execution_count": 36,
   "metadata": {},
   "outputs": [
    {
     "name": "stdout",
     "output_type": "stream",
     "text": [
      "Clasification report Logistic Regression:\n",
      "              precision    recall  f1-score   support\n",
      "\n",
      "           0       1.00      0.78      0.88    822276\n",
      "           1       0.03      0.77      0.05      6765\n",
      "\n",
      "    accuracy                           0.78    829041\n",
      "   macro avg       0.51      0.78      0.47    829041\n",
      "weighted avg       0.99      0.78      0.87    829041\n",
      "\n"
     ]
    }
   ],
   "source": [
    "print('Clasification report Logistic Regression:')\n",
    "print(classification_report(y_test, ytest_pred_LogReg))"
   ]
  },
  {
   "cell_type": "markdown",
   "metadata": {},
   "source": [
    "### 5.3 - Matriz de confusión ###\n",
    "\n",
    "Mtriz en la cual cada columna representa el número de predicciones de cada clase, mientras que cada fila representa a las instancias en la clase real\n",
    "\n",
    "\n",
    "<img src=\"img/confusion_matix_example.png\" style=\"width:400px;height:400px;\">\n"
   ]
  },
  {
   "cell_type": "markdown",
   "metadata": {},
   "source": [
    "### 5.3.1 - Matriz de confusión Random Forest ###"
   ]
  },
  {
   "cell_type": "code",
   "execution_count": 25,
   "metadata": {},
   "outputs": [
    {
     "name": "stdout",
     "output_type": "stream",
     "text": [
      "\n",
      "Matriz de confusión Random Forest : \n",
      "\n",
      "[[682366 139910]\n",
      " [   633   6132]]\n",
      "\n"
     ]
    },
    {
     "data": {
      "text/plain": [
       "<matplotlib.axes._subplots.AxesSubplot at 0x17500450b48>"
      ]
     },
     "execution_count": 25,
     "metadata": {},
     "output_type": "execute_result"
    },
    {
     "data": {
      "image/png": "[encoded data removed]",
      "text/plain": [
       "<Figure size 1080x648 with 2 Axes>"
      ]
     },
     "metadata": {},
     "output_type": "display_data"
    }
   ],
   "source": [
    "\n",
    "print('\\nMatriz de confusión Random Forest : \\n')\n",
    "cm = confusion_matrix(y_test, ytest_pred_RF)\n",
    "target_names = ['No_fatal', 'Fatal']\n",
    "\n",
    "print(cm)\n",
    "print()\n",
    "\n",
    "\n",
    "plt.figure(figsize=(15, 9))\n",
    "b, t = plt.ylim()\n",
    "b += 20\n",
    "t -= 20\n",
    "plt.ylim(b, t)\n",
    "sns.set(font_scale=1.4)\n",
    "sns.heatmap(cm, annot = True, square = True,\n",
    "            linewidths=0.2,\n",
    "            xticklabels = target_names,\n",
    "            yticklabels = target_names,\n",
    "            robust = False,\n",
    "            cbar_kws = {'shrink': 0.5},\n",
    "            fmt=\"d\")"
   ]
  },
  {
   "cell_type": "markdown",
   "metadata": {},
   "source": [
    "### 5.3.2 - Matriz de confusión SVC ###"
   ]
  },
  {
   "cell_type": "code",
   "execution_count": 26,
   "metadata": {},
   "outputs": [
    {
     "name": "stdout",
     "output_type": "stream",
     "text": [
      "\n",
      "Matriz de confusión SVC : \n",
      "\n",
      "[[76994 22169]\n",
      " [  126   711]]\n",
      "\n"
     ]
    },
    {
     "data": {
      "text/plain": [
       "<matplotlib.axes._subplots.AxesSubplot at 0x17501115d08>"
      ]
     },
     "execution_count": 26,
     "metadata": {},
     "output_type": "execute_result"
    },
    {
     "data": {
      "image/png": "[encoded data removed]",
      "text/plain": [
       "<Figure size 1080x648 with 2 Axes>"
      ]
     },
     "metadata": {},
     "output_type": "display_data"
    }
   ],
   "source": [
    "print('\\nMatriz de confusión SVC : \\n')\n",
    "cm = confusion_matrix(y_test[:100000], ytest_pred_SVC)\n",
    "target_names = ['No_fatal', 'Fatal']\n",
    "\n",
    "print(cm)\n",
    "print()\n",
    "\n",
    "\n",
    "plt.figure(figsize=(15, 9))\n",
    "b, t = plt.ylim()\n",
    "b += 20\n",
    "t -= 20\n",
    "plt.ylim(b, t)\n",
    "sns.set(font_scale=1.4)\n",
    "sns.heatmap(cm, annot = True, square = True,\n",
    "            linewidths=0.2,\n",
    "            xticklabels = target_names,\n",
    "            yticklabels = target_names,\n",
    "            robust = False,\n",
    "            cbar_kws = {'shrink': 0.5},\n",
    "            fmt=\"d\")"
   ]
  },
  {
   "cell_type": "markdown",
   "metadata": {},
   "source": [
    "### 5.3.2 - Matriz de confusión MLP ###"
   ]
  },
  {
   "cell_type": "code",
   "execution_count": 27,
   "metadata": {},
   "outputs": [
    {
     "name": "stdout",
     "output_type": "stream",
     "text": [
      "\n",
      "Matriz de confusión MLP : \n",
      "\n",
      "[[79234 19929]\n",
      " [  123   714]]\n",
      "\n"
     ]
    },
    {
     "data": {
      "text/plain": [
       "<matplotlib.axes._subplots.AxesSubplot at 0x175003bea88>"
      ]
     },
     "execution_count": 27,
     "metadata": {},
     "output_type": "execute_result"
    },
    {
     "data": {
      "image/png": "[encoded data removed]",
      "text/plain": [
       "<Figure size 1080x648 with 2 Axes>"
      ]
     },
     "metadata": {},
     "output_type": "display_data"
    }
   ],
   "source": [
    "print('\\nMatriz de confusión MLP : \\n')\n",
    "cm = confusion_matrix(y_test[:100000], ytest_pred_MLP)\n",
    "target_names = ['No_fatal', 'Fatal']\n",
    "\n",
    "print(cm)\n",
    "print()\n",
    "\n",
    "\n",
    "plt.figure(figsize=(15, 9))\n",
    "b, t = plt.ylim()\n",
    "b += 20\n",
    "t -= 20\n",
    "plt.ylim(b, t)\n",
    "sns.set(font_scale=1.4)\n",
    "sns.heatmap(cm, annot = True, square = True,\n",
    "            linewidths=0.2,\n",
    "            xticklabels = target_names,\n",
    "            yticklabels = target_names,\n",
    "            robust = False,\n",
    "            cbar_kws = {'shrink': 0.5},\n",
    "            fmt=\"d\")"
   ]
  },
  {
   "cell_type": "markdown",
   "metadata": {},
   "source": [
    "### 5.3.2 - Matriz de confusión Logistic Regression ###"
   ]
  },
  {
   "cell_type": "code",
   "execution_count": 28,
   "metadata": {},
   "outputs": [
    {
     "name": "stdout",
     "output_type": "stream",
     "text": [
      "\n",
      "Matriz de confusión Logistic Regression : \n",
      "\n",
      "[[645381 176895]\n",
      " [  1581   5184]]\n",
      "\n"
     ]
    },
    {
     "data": {
      "text/plain": [
       "<matplotlib.axes._subplots.AxesSubplot at 0x175013994c8>"
      ]
     },
     "execution_count": 28,
     "metadata": {},
     "output_type": "execute_result"
    },
    {
     "data": {
      "image/png": "[encoded data removed]",
      "text/plain": [
       "<Figure size 1080x648 with 2 Axes>"
      ]
     },
     "metadata": {},
     "output_type": "display_data"
    }
   ],
   "source": [
    "print('\\nMatriz de confusión Logistic Regression : \\n')\n",
    "cm = confusion_matrix(y_test, ytest_pred_LogReg)\n",
    "target_names = ['No_fatal', 'Fatal']\n",
    "\n",
    "print(cm)\n",
    "print()\n",
    "\n",
    "\n",
    "plt.figure(figsize=(15, 9))\n",
    "b, t = plt.ylim()\n",
    "b += 20\n",
    "t -= 20\n",
    "plt.ylim(b, t)\n",
    "sns.set(font_scale=1.4)\n",
    "sns.heatmap(cm, annot = True, square = True,\n",
    "            linewidths=0.2,\n",
    "            xticklabels = target_names,\n",
    "            yticklabels = target_names,\n",
    "            robust = False,\n",
    "            cbar_kws = {'shrink': 0.5},\n",
    "            fmt=\"d\")"
   ]
  },
  {
   "cell_type": "markdown",
   "metadata": {},
   "source": [
    "## 6 - Revisamos las variables  con más relevancia para el modelo de RF ##\n",
    "\n",
    "Variables con más relevancia para el modelo en porcentaje, ordenadas de forma descendiente."
   ]
  },
  {
   "cell_type": "code",
   "execution_count": 29,
   "metadata": {},
   "outputs": [
    {
     "data": {
      "text/html": [
       "<div>\n",
       "<style scoped>\n",
       "    .dataframe tbody tr th:only-of-type {\n",
       "        vertical-align: middle;\n",
       "    }\n",
       "\n",
       "    .dataframe tbody tr th {\n",
       "        vertical-align: top;\n",
       "    }\n",
       "\n",
       "    .dataframe thead th {\n",
       "        text-align: right;\n",
       "    }\n",
       "</style>\n",
       "<table border=\"1\" class=\"dataframe\">\n",
       "  <thead>\n",
       "    <tr style=\"text-align: right;\">\n",
       "      <th></th>\n",
       "      <th>features</th>\n",
       "      <th>coef</th>\n",
       "    </tr>\n",
       "  </thead>\n",
       "  <tbody>\n",
       "    <tr>\n",
       "      <td>0</td>\n",
       "      <td>ID_ENTIDAD</td>\n",
       "      <td>8.871210</td>\n",
       "    </tr>\n",
       "    <tr>\n",
       "      <td>25</td>\n",
       "      <td>TIPACCID_Colision con vehiculo automotor1</td>\n",
       "      <td>8.867509</td>\n",
       "    </tr>\n",
       "    <tr>\n",
       "      <td>1</td>\n",
       "      <td>ID_MUNICIPIO</td>\n",
       "      <td>7.988062</td>\n",
       "    </tr>\n",
       "    <tr>\n",
       "      <td>2</td>\n",
       "      <td>ID_HORA</td>\n",
       "      <td>7.486844</td>\n",
       "    </tr>\n",
       "    <tr>\n",
       "      <td>13</td>\n",
       "      <td>ID_EDAD</td>\n",
       "      <td>7.394344</td>\n",
       "    </tr>\n",
       "    <tr>\n",
       "      <td>3</td>\n",
       "      <td>ID_DIA</td>\n",
       "      <td>7.008226</td>\n",
       "    </tr>\n",
       "    <tr>\n",
       "      <td>28</td>\n",
       "      <td>URBANA_Accidente en interseccion</td>\n",
       "      <td>6.181320</td>\n",
       "    </tr>\n",
       "    <tr>\n",
       "      <td>4</td>\n",
       "      <td>AUTOMOVIL</td>\n",
       "      <td>4.313406</td>\n",
       "    </tr>\n",
       "    <tr>\n",
       "      <td>24</td>\n",
       "      <td>TIPACCID_Colision con vehiculo automotor0</td>\n",
       "      <td>2.868546</td>\n",
       "    </tr>\n",
       "    <tr>\n",
       "      <td>31</td>\n",
       "      <td>SUBURBANA_Accidente en carretera estatal</td>\n",
       "      <td>2.409976</td>\n",
       "    </tr>\n",
       "    <tr>\n",
       "      <td>10</td>\n",
       "      <td>MOTOCICLET</td>\n",
       "      <td>2.021481</td>\n",
       "    </tr>\n",
       "    <tr>\n",
       "      <td>38</td>\n",
       "      <td>ALIENTO_Si</td>\n",
       "      <td>1.837024</td>\n",
       "    </tr>\n",
       "    <tr>\n",
       "      <td>39</td>\n",
       "      <td>CINTURON_Si</td>\n",
       "      <td>1.834572</td>\n",
       "    </tr>\n",
       "    <tr>\n",
       "      <td>27</td>\n",
       "      <td>TIPACCID_Volcadura</td>\n",
       "      <td>1.722721</td>\n",
       "    </tr>\n",
       "    <tr>\n",
       "      <td>23</td>\n",
       "      <td>TIPACCID_Colision con vehiculo automotor</td>\n",
       "      <td>1.713743</td>\n",
       "    </tr>\n",
       "    <tr>\n",
       "      <td>29</td>\n",
       "      <td>URBANA_Accidente en no interseccion</td>\n",
       "      <td>1.535780</td>\n",
       "    </tr>\n",
       "    <tr>\n",
       "      <td>14</td>\n",
       "      <td>DIASEMANA_Domingo</td>\n",
       "      <td>1.163235</td>\n",
       "    </tr>\n",
       "    <tr>\n",
       "      <td>7</td>\n",
       "      <td>CAMIONETA</td>\n",
       "      <td>1.121342</td>\n",
       "    </tr>\n",
       "    <tr>\n",
       "      <td>5</td>\n",
       "      <td>CAMPASAJ</td>\n",
       "      <td>1.033910</td>\n",
       "    </tr>\n",
       "    <tr>\n",
       "      <td>19</td>\n",
       "      <td>DIASEMANA_Sabado</td>\n",
       "      <td>0.944786</td>\n",
       "    </tr>\n",
       "    <tr>\n",
       "      <td>30</td>\n",
       "      <td>SUBURBANA_Accidente en camino rural</td>\n",
       "      <td>0.929898</td>\n",
       "    </tr>\n",
       "    <tr>\n",
       "      <td>20</td>\n",
       "      <td>DIASEMANA_Viernes</td>\n",
       "      <td>0.927287</td>\n",
       "    </tr>\n",
       "    <tr>\n",
       "      <td>37</td>\n",
       "      <td>SEXO_Hombre</td>\n",
       "      <td>0.902867</td>\n",
       "    </tr>\n",
       "    <tr>\n",
       "      <td>16</td>\n",
       "      <td>DIASEMANA_Lunes</td>\n",
       "      <td>0.878114</td>\n",
       "    </tr>\n",
       "    <tr>\n",
       "      <td>15</td>\n",
       "      <td>DIASEMANA_Jueves</td>\n",
       "      <td>0.866978</td>\n",
       "    </tr>\n",
       "    <tr>\n",
       "      <td>17</td>\n",
       "      <td>DIASEMANA_Martes</td>\n",
       "      <td>0.836553</td>\n",
       "    </tr>\n",
       "    <tr>\n",
       "      <td>40</td>\n",
       "      <td>MES_1</td>\n",
       "      <td>0.835561</td>\n",
       "    </tr>\n",
       "    <tr>\n",
       "      <td>18</td>\n",
       "      <td>DIASEMANA_Miercoles</td>\n",
       "      <td>0.817213</td>\n",
       "    </tr>\n",
       "    <tr>\n",
       "      <td>42</td>\n",
       "      <td>MES_3</td>\n",
       "      <td>0.799708</td>\n",
       "    </tr>\n",
       "    <tr>\n",
       "      <td>43</td>\n",
       "      <td>MES_4</td>\n",
       "      <td>0.788738</td>\n",
       "    </tr>\n",
       "    <tr>\n",
       "      <td>22</td>\n",
       "      <td>TIPACCID_Colision con peaton (atropellamiento)</td>\n",
       "      <td>0.787958</td>\n",
       "    </tr>\n",
       "    <tr>\n",
       "      <td>11</td>\n",
       "      <td>BICICLETA</td>\n",
       "      <td>0.782030</td>\n",
       "    </tr>\n",
       "    <tr>\n",
       "      <td>46</td>\n",
       "      <td>MES_7</td>\n",
       "      <td>0.770057</td>\n",
       "    </tr>\n",
       "    <tr>\n",
       "      <td>47</td>\n",
       "      <td>MES_8</td>\n",
       "      <td>0.766481</td>\n",
       "    </tr>\n",
       "    <tr>\n",
       "      <td>51</td>\n",
       "      <td>MES_12</td>\n",
       "      <td>0.760735</td>\n",
       "    </tr>\n",
       "    <tr>\n",
       "      <td>41</td>\n",
       "      <td>MES_2</td>\n",
       "      <td>0.751688</td>\n",
       "    </tr>\n",
       "    <tr>\n",
       "      <td>50</td>\n",
       "      <td>MES_11</td>\n",
       "      <td>0.743861</td>\n",
       "    </tr>\n",
       "    <tr>\n",
       "      <td>49</td>\n",
       "      <td>MES_10</td>\n",
       "      <td>0.729062</td>\n",
       "    </tr>\n",
       "    <tr>\n",
       "      <td>33</td>\n",
       "      <td>CAUSAACCI_Conductor</td>\n",
       "      <td>0.725305</td>\n",
       "    </tr>\n",
       "    <tr>\n",
       "      <td>45</td>\n",
       "      <td>MES_6</td>\n",
       "      <td>0.722809</td>\n",
       "    </tr>\n",
       "    <tr>\n",
       "      <td>48</td>\n",
       "      <td>MES_9</td>\n",
       "      <td>0.707333</td>\n",
       "    </tr>\n",
       "    <tr>\n",
       "      <td>44</td>\n",
       "      <td>MES_5</td>\n",
       "      <td>0.703118</td>\n",
       "    </tr>\n",
       "    <tr>\n",
       "      <td>6</td>\n",
       "      <td>PASCAMION</td>\n",
       "      <td>0.698500</td>\n",
       "    </tr>\n",
       "    <tr>\n",
       "      <td>8</td>\n",
       "      <td>CAMION</td>\n",
       "      <td>0.527340</td>\n",
       "    </tr>\n",
       "    <tr>\n",
       "      <td>9</td>\n",
       "      <td>TRACTOR</td>\n",
       "      <td>0.467519</td>\n",
       "    </tr>\n",
       "    <tr>\n",
       "      <td>34</td>\n",
       "      <td>CAUSAACCI_Mala condicion del camino</td>\n",
       "      <td>0.410079</td>\n",
       "    </tr>\n",
       "    <tr>\n",
       "      <td>36</td>\n",
       "      <td>CAPAROD_Pavimentada</td>\n",
       "      <td>0.405715</td>\n",
       "    </tr>\n",
       "    <tr>\n",
       "      <td>35</td>\n",
       "      <td>CAUSAACCI_Peaton o pasajero</td>\n",
       "      <td>0.403258</td>\n",
       "    </tr>\n",
       "    <tr>\n",
       "      <td>26</td>\n",
       "      <td>TIPACCID_Salida del camino</td>\n",
       "      <td>0.380842</td>\n",
       "    </tr>\n",
       "    <tr>\n",
       "      <td>32</td>\n",
       "      <td>SUBURBANA_Accidentes en otro camino</td>\n",
       "      <td>0.345288</td>\n",
       "    </tr>\n",
       "    <tr>\n",
       "      <td>12</td>\n",
       "      <td>OTROVEHIC</td>\n",
       "      <td>0.266491</td>\n",
       "    </tr>\n",
       "    <tr>\n",
       "      <td>21</td>\n",
       "      <td>TIPACCID_Colision con objeto fijo</td>\n",
       "      <td>0.243575</td>\n",
       "    </tr>\n",
       "  </tbody>\n",
       "</table>\n",
       "</div>"
      ],
      "text/plain": [
       "                                          features      coef\n",
       "0                                       ID_ENTIDAD  8.871210\n",
       "25       TIPACCID_Colision con vehiculo automotor1  8.867509\n",
       "1                                     ID_MUNICIPIO  7.988062\n",
       "2                                          ID_HORA  7.486844\n",
       "13                                         ID_EDAD  7.394344\n",
       "3                                           ID_DIA  7.008226\n",
       "28                URBANA_Accidente en interseccion  6.181320\n",
       "4                                        AUTOMOVIL  4.313406\n",
       "24       TIPACCID_Colision con vehiculo automotor0  2.868546\n",
       "31        SUBURBANA_Accidente en carretera estatal  2.409976\n",
       "10                                      MOTOCICLET  2.021481\n",
       "38                                      ALIENTO_Si  1.837024\n",
       "39                                     CINTURON_Si  1.834572\n",
       "27                              TIPACCID_Volcadura  1.722721\n",
       "23        TIPACCID_Colision con vehiculo automotor  1.713743\n",
       "29             URBANA_Accidente en no interseccion  1.535780\n",
       "14                               DIASEMANA_Domingo  1.163235\n",
       "7                                        CAMIONETA  1.121342\n",
       "5                                         CAMPASAJ  1.033910\n",
       "19                                DIASEMANA_Sabado  0.944786\n",
       "30             SUBURBANA_Accidente en camino rural  0.929898\n",
       "20                               DIASEMANA_Viernes  0.927287\n",
       "37                                     SEXO_Hombre  0.902867\n",
       "16                                 DIASEMANA_Lunes  0.878114\n",
       "15                                DIASEMANA_Jueves  0.866978\n",
       "17                                DIASEMANA_Martes  0.836553\n",
       "40                                           MES_1  0.835561\n",
       "18                             DIASEMANA_Miercoles  0.817213\n",
       "42                                           MES_3  0.799708\n",
       "43                                           MES_4  0.788738\n",
       "22  TIPACCID_Colision con peaton (atropellamiento)  0.787958\n",
       "11                                       BICICLETA  0.782030\n",
       "46                                           MES_7  0.770057\n",
       "47                                           MES_8  0.766481\n",
       "51                                          MES_12  0.760735\n",
       "41                                           MES_2  0.751688\n",
       "50                                          MES_11  0.743861\n",
       "49                                          MES_10  0.729062\n",
       "33                             CAUSAACCI_Conductor  0.725305\n",
       "45                                           MES_6  0.722809\n",
       "48                                           MES_9  0.707333\n",
       "44                                           MES_5  0.703118\n",
       "6                                        PASCAMION  0.698500\n",
       "8                                           CAMION  0.527340\n",
       "9                                          TRACTOR  0.467519\n",
       "34             CAUSAACCI_Mala condicion del camino  0.410079\n",
       "36                             CAPAROD_Pavimentada  0.405715\n",
       "35                     CAUSAACCI_Peaton o pasajero  0.403258\n",
       "26                      TIPACCID_Salida del camino  0.380842\n",
       "32             SUBURBANA_Accidentes en otro camino  0.345288\n",
       "12                                       OTROVEHIC  0.266491\n",
       "21               TIPACCID_Colision con objeto fijo  0.243575"
      ]
     },
     "execution_count": 29,
     "metadata": {},
     "output_type": "execute_result"
    }
   ],
   "source": [
    "pd.concat([pd.DataFrame(df_train.drop(columns = names).columns, columns = ['features']),\n",
    "           pd.DataFrame(np.transpose(model_RF.feature_importances_ * 100),\n",
    "           columns = ['coef'])], axis = 1).sort_values(by='coef', ascending = False)"
   ]
  },
  {
   "cell_type": "markdown",
   "metadata": {},
   "source": [
    "## 7 - Realizamos una predicción ##\n",
    "\n",
    "   Una vez construido nuestro modelo, podemos realizar una predicción utilizando nuestros datos de prueba. Indicar el valor del registro que se quiere obtener su predicción en la variables 'index' declarada en la celda de abajo. Asignar  un valor de 0 a 829040."
   ]
  },
  {
   "cell_type": "code",
   "execution_count": 1,
   "metadata": {},
   "outputs": [
    {
     "ename": "NameError",
     "evalue": "name 'model_RF' is not defined",
     "output_type": "error",
     "traceback": [
      "\u001b[1;31m---------------------------------------------------------------------------\u001b[0m",
      "\u001b[1;31mNameError\u001b[0m                                 Traceback (most recent call last)",
      "\u001b[1;32m<ipython-input-1-28de99a21739>\u001b[0m in \u001b[0;36m<module>\u001b[1;34m\u001b[0m\n\u001b[0;32m      1\u001b[0m \u001b[0mindex\u001b[0m \u001b[1;33m=\u001b[0m \u001b[1;36m798\u001b[0m\u001b[1;33m\u001b[0m\u001b[1;33m\u001b[0m\u001b[0m\n\u001b[0;32m      2\u001b[0m \u001b[0mylabel\u001b[0m \u001b[1;33m=\u001b[0m \u001b[1;34m''\u001b[0m\u001b[1;33m\u001b[0m\u001b[1;33m\u001b[0m\u001b[0m\n\u001b[1;32m----> 3\u001b[1;33m \u001b[0mprediccion\u001b[0m \u001b[1;33m=\u001b[0m \u001b[0mmodel_RF\u001b[0m\u001b[1;33m.\u001b[0m\u001b[0mpredict_proba\u001b[0m\u001b[1;33m(\u001b[0m\u001b[0mX_test\u001b[0m\u001b[1;33m[\u001b[0m\u001b[0mindex\u001b[0m\u001b[1;33m,\u001b[0m\u001b[1;33m:\u001b[0m\u001b[1;33m]\u001b[0m\u001b[1;33m.\u001b[0m\u001b[0mreshape\u001b[0m\u001b[1;33m(\u001b[0m\u001b[1;36m1\u001b[0m\u001b[1;33m,\u001b[0m \u001b[1;33m-\u001b[0m\u001b[1;36m1\u001b[0m\u001b[1;33m)\u001b[0m\u001b[1;33m)\u001b[0m\u001b[1;33m\u001b[0m\u001b[1;33m\u001b[0m\u001b[0m\n\u001b[0m\u001b[0;32m      4\u001b[0m \u001b[0mprint\u001b[0m\u001b[1;33m(\u001b[0m\u001b[1;34m'\\nNo fatal: {0: .2f}%'\u001b[0m\u001b[1;33m.\u001b[0m\u001b[0mformat\u001b[0m\u001b[1;33m(\u001b[0m\u001b[0mprediccion\u001b[0m\u001b[1;33m[\u001b[0m\u001b[1;36m0\u001b[0m\u001b[1;33m]\u001b[0m\u001b[1;33m[\u001b[0m\u001b[1;36m0\u001b[0m\u001b[1;33m]\u001b[0m \u001b[1;33m*\u001b[0m \u001b[1;36m100\u001b[0m\u001b[1;33m)\u001b[0m\u001b[1;33m)\u001b[0m\u001b[1;33m\u001b[0m\u001b[1;33m\u001b[0m\u001b[0m\n\u001b[0;32m      5\u001b[0m \u001b[0mprint\u001b[0m\u001b[1;33m(\u001b[0m\u001b[1;34m'Fatal: {0: .2f}%'\u001b[0m\u001b[1;33m.\u001b[0m\u001b[0mformat\u001b[0m\u001b[1;33m(\u001b[0m\u001b[0mprediccion\u001b[0m\u001b[1;33m[\u001b[0m\u001b[1;36m0\u001b[0m\u001b[1;33m]\u001b[0m\u001b[1;33m[\u001b[0m\u001b[1;36m1\u001b[0m\u001b[1;33m]\u001b[0m \u001b[1;33m*\u001b[0m \u001b[1;36m100\u001b[0m\u001b[1;33m)\u001b[0m\u001b[1;33m)\u001b[0m\u001b[1;33m\u001b[0m\u001b[1;33m\u001b[0m\u001b[0m\n",
      "\u001b[1;31mNameError\u001b[0m: name 'model_RF' is not defined"
     ]
    }
   ],
   "source": [
    "index = 7988\n",
    "ylabel = ''\n",
    "prediccion = model_RF.predict_proba(X_test[index,:].reshape(1, -1))\n",
    "print('\\nNo fatal: {0: .2f}%'.format(prediccion[0][0] * 100))\n",
    "print('Fatal: {0: .2f}%'.format(prediccion[0][1] * 100))\n",
    "\n",
    "if y_test[index] == 0:\n",
    "    ylabel = 'No fatal'\n",
    "else:\n",
    "    ylabel = 'Fatal'\n",
    "    \n",
    "print('Clasificación real: ' + ylabel)"
   ]
  },
  {
   "cell_type": "code",
   "execution_count": null,
   "metadata": {},
   "outputs": [],
   "source": []
  }
 ],
 "metadata": {
  "kernelspec": {
   "display_name": "Python 3",
   "language": "python",
   "name": "python3"
  },
  "language_info": {
   "codemirror_mode": {
    "name": "ipython",
    "version": 3
   },
   "file_extension": ".py",
   "mimetype": "text/x-python",
   "name": "python",
   "nbconvert_exporter": "python",
   "pygments_lexer": "ipython3",
   "version": "3.7.4"
  }
 },
 "nbformat": 4,
 "nbformat_minor": 2
}
